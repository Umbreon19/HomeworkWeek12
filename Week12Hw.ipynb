{
 "cells": [
  {
   "cell_type": "code",
   "execution_count": 20,
   "metadata": {},
   "outputs": [],
   "source": [
    "def DogAgeCalc():\n",
    "    dogAge=input('How old is the dog? ')\n",
    "    dogAge=int(dogAge)\n",
    "    if dogAge==1:\n",
    "        print('Your dog is 12')\n",
    "    if dogAge==2:\n",
    "        print('Your dog is 24')\n",
    "    else:\n",
    "        finalDogAge=24+(dogAge-2)*4\n",
    "        print(\"Your Dog is \", finalDogAge, \" Years Old In Dog Years\")"
   ]
  }
 ],
 "metadata": {
  "kernelspec": {
   "display_name": "Python 3",
   "language": "python",
   "name": "python3"
  },
  "language_info": {
   "codemirror_mode": {
    "name": "ipython",
    "version": 3
   },
   "file_extension": ".py",
   "mimetype": "text/x-python",
   "name": "python",
   "nbconvert_exporter": "python",
   "pygments_lexer": "ipython3",
   "version": "3.8.3"
  }
 },
 "nbformat": 4,
 "nbformat_minor": 4
}
